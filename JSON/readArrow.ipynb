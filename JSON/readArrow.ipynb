{
 "cells": [
  {
   "cell_type": "code",
   "execution_count": 8,
   "metadata": {},
   "outputs": [],
   "source": [
    "import Pkg; \n",
    "Pkg.add(\"DataFrames\")\n",
    "Pkg.add(\"Arrow\")\n",
    "using DataFrames\n",
    "using Arrow"
   ]
  },
  {
   "cell_type": "code",
   "execution_count": 7,
   "metadata": {},
   "outputs": [
    {
     "data": {
      "text/plain": [
       "5-element Vector{String}:\n",
       " \"100381.19\"\n",
       " \"84167.21\"\n",
       " \"98538.34\"\n",
       " \"70298.81\"\n",
       " \"79253.11\""
      ]
     },
     "metadata": {},
     "output_type": "display_data"
    }
   ],
   "source": [
    "# read arrow file\n",
    "\n",
    "arrow_file = \"bostonEmployeeSalaries.arrow\" \n",
    "at = Arrow.Table(arrow_file)\n",
    "df = DataFrame(at)\n",
    "# demo arrow table  \n",
    "salaries = at.x19\n",
    "typeof(salaries)\n",
    "salaries[1:5]"
   ]
  }
 ],
 "metadata": {
  "kernelspec": {
   "display_name": "Julia 1.8.0",
   "language": "julia",
   "name": "julia-1.8"
  },
  "language_info": {
   "file_extension": ".jl",
   "mimetype": "application/julia",
   "name": "julia",
   "version": "1.8.0"
  },
  "orig_nbformat": 4,
  "vscode": {
   "interpreter": {
    "hash": "949777d72b0d2535278d3dc13498b2535136f6dfe0678499012e853ee9abcab1"
   }
  }
 },
 "nbformat": 4,
 "nbformat_minor": 2
}
