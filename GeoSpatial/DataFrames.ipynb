{
 "cells": [
  {
   "cell_type": "code",
   "execution_count": 57,
   "metadata": {},
   "outputs": [
    {
     "name": "stderr",
     "output_type": "stream",
     "text": [
      "\u001b[32m\u001b[1m   Resolving\u001b[22m\u001b[39m package versions...\n",
      "\u001b[32m\u001b[1m  No Changes\u001b[22m\u001b[39m to `~/.julia/environments/v1.7/Project.toml`\n",
      "\u001b[32m\u001b[1m  No Changes\u001b[22m\u001b[39m to `~/.julia/environments/v1.7/Manifest.toml`\n",
      "\u001b[32m\u001b[1m   Resolving\u001b[22m\u001b[39m package versions...\n",
      "\u001b[32m\u001b[1m  No Changes\u001b[22m\u001b[39m to `~/.julia/environments/v1.7/Project.toml`\n",
      "\u001b[32m\u001b[1m  No Changes\u001b[22m\u001b[39m to `~/.julia/environments/v1.7/Manifest.toml`\n",
      "\u001b[32m\u001b[1m   Resolving\u001b[22m\u001b[39m package versions...\n",
      "\u001b[32m\u001b[1m  No Changes\u001b[22m\u001b[39m to `~/.julia/environments/v1.7/Project.toml`\n",
      "\u001b[32m\u001b[1m  No Changes\u001b[22m\u001b[39m to `~/.julia/environments/v1.7/Manifest.toml`\n",
      "\u001b[32m\u001b[1m   Resolving\u001b[22m\u001b[39m package versions...\n",
      "\u001b[32m\u001b[1m  No Changes\u001b[22m\u001b[39m to `~/.julia/environments/v1.7/Project.toml`\n",
      "\u001b[32m\u001b[1m  No Changes\u001b[22m\u001b[39m to `~/.julia/environments/v1.7/Manifest.toml`\n"
     ]
    }
   ],
   "source": [
    "import Pkg; Pkg.add(\"DataFrames\")\n",
    "Pkg.add(\"Missings\")\n",
    "Pkg.add(\"CSV\")\n",
    "Pkg.add(\"Statistics\")\n",
    "using DataFrames\n",
    "using CSV\n",
    "using Missings\n",
    "using Statistics"
   ]
  },
  {
   "cell_type": "code",
   "execution_count": 59,
   "metadata": {},
   "outputs": [
    {
     "data": {
      "text/plain": [
       "Vector{Int64} (alias for Array{Int64, 1})"
      ]
     },
     "execution_count": 59,
     "metadata": {},
     "output_type": "execute_result"
    }
   ],
   "source": [
    "df = DataFrame(a=1:4, b='A':'D')\n",
    "#df.c = [1.0, 2.0, 3.0, 4.0]  # add a column named :c\n",
    "typeof(df.a)\n"
   ]
  },
  {
   "cell_type": "code",
   "execution_count": 60,
   "metadata": {},
   "outputs": [
    {
     "data": {
      "text/html": [
       "<div class=\"data-frame\"><p>5 rows × 4 columns</p><table class=\"data-frame\"><thead><tr><th></th><th>colour</th><th>shape</th><th>border</th><th>area</th></tr><tr><th></th><th title=\"String\">String</th><th title=\"String\">String</th><th title=\"String\">String</th><th title=\"Union{Missing, Float64}\">Float64?</th></tr></thead><tbody><tr><th>1</th><td>green</td><td>circle</td><td>dotted</td><td>1.1</td></tr><tr><th>2</th><td>blue</td><td>triangle</td><td>line</td><td>2.3</td></tr><tr><th>3</th><td>white</td><td>square</td><td>line</td><td>3.1</td></tr><tr><th>4</th><td>green</td><td>square</td><td>line</td><td><em>missing</em></td></tr><tr><th>5</th><td>green</td><td>circle</td><td>dotted</td><td>5.2</td></tr></tbody></table></div>"
      ],
      "text/latex": [
       "\\begin{tabular}{r|cccc}\n",
       "\t& colour & shape & border & area\\\\\n",
       "\t\\hline\n",
       "\t& String & String & String & Float64?\\\\\n",
       "\t\\hline\n",
       "\t1 & green & circle & dotted & 1.1 \\\\\n",
       "\t2 & blue & triangle & line & 2.3 \\\\\n",
       "\t3 & white & square & line & 3.1 \\\\\n",
       "\t4 & green & square & line & \\emph{missing} \\\\\n",
       "\t5 & green & circle & dotted & 5.2 \\\\\n",
       "\\end{tabular}\n"
      ],
      "text/plain": [
       "\u001b[1m5×4 DataFrame\u001b[0m\n",
       "\u001b[1m Row \u001b[0m│\u001b[1m colour \u001b[0m\u001b[1m shape    \u001b[0m\u001b[1m border \u001b[0m\u001b[1m area      \u001b[0m\n",
       "\u001b[1m     \u001b[0m│\u001b[90m String \u001b[0m\u001b[90m String   \u001b[0m\u001b[90m String \u001b[0m\u001b[90m Float64?  \u001b[0m\n",
       "─────┼─────────────────────────────────────\n",
       "   1 │ green   circle    dotted        1.1\n",
       "   2 │ blue    triangle  line          2.3\n",
       "   3 │ white   square    line          3.1\n",
       "   4 │ green   square    line   \u001b[90m missing   \u001b[0m\n",
       "   5 │ green   circle    dotted        5.2"
      ]
     },
     "execution_count": 60,
     "metadata": {},
     "output_type": "execute_result"
    }
   ],
   "source": [
    "df = DataFrame(\n",
    "colour = [\"green\",\"blue\",\"white\",\"green\",\"green\"],\n",
    "shape  = [\"circle\", \"triangle\", \"square\",\"square\",\"circle\"],\n",
    "border = [\"dotted\", \"line\", \"line\", \"line\", \"dotted\"],\n",
    "area   = [1.1, 2.3, 3.1, missing, 5.2])\n",
    "\n"
   ]
  },
  {
   "cell_type": "code",
   "execution_count": 61,
   "metadata": {},
   "outputs": [
    {
     "data": {
      "text/html": [
       "<div class=\"data-frame\"><p>4 rows × 7 columns</p><table class=\"data-frame\"><thead><tr><th></th><th>variable</th><th>mean</th><th>min</th><th>median</th><th>max</th><th>nmissing</th><th>eltype</th></tr><tr><th></th><th title=\"Symbol\">Symbol</th><th title=\"Union{Nothing, Float64}\">Union…</th><th title=\"Any\">Any</th><th title=\"Union{Nothing, Float64}\">Union…</th><th title=\"Any\">Any</th><th title=\"Int64\">Int64</th><th title=\"Type\">Type</th></tr></thead><tbody><tr><th>1</th><td>colour</td><td></td><td>blue</td><td></td><td>white</td><td>0</td><td>String</td></tr><tr><th>2</th><td>shape</td><td></td><td>circle</td><td></td><td>triangle</td><td>0</td><td>String</td></tr><tr><th>3</th><td>border</td><td></td><td>dotted</td><td></td><td>line</td><td>0</td><td>String</td></tr><tr><th>4</th><td>area</td><td>2.925</td><td>1.1</td><td>2.7</td><td>5.2</td><td>1</td><td>Union{Missing, Float64}</td></tr></tbody></table></div>"
      ],
      "text/latex": [
       "\\begin{tabular}{r|ccccccc}\n",
       "\t& variable & mean & min & median & max & nmissing & eltype\\\\\n",
       "\t\\hline\n",
       "\t& Symbol & Union… & Any & Union… & Any & Int64 & Type\\\\\n",
       "\t\\hline\n",
       "\t1 & colour &  & blue &  & white & 0 & String \\\\\n",
       "\t2 & shape &  & circle &  & triangle & 0 & String \\\\\n",
       "\t3 & border &  & dotted &  & line & 0 & String \\\\\n",
       "\t4 & area & 2.925 & 1.1 & 2.7 & 5.2 & 1 & Union\\{Missing, Float64\\} \\\\\n",
       "\\end{tabular}\n"
      ],
      "text/plain": [
       "\u001b[1m4×7 DataFrame\u001b[0m\n",
       "\u001b[1m Row \u001b[0m│\u001b[1m variable \u001b[0m\u001b[1m mean   \u001b[0m\u001b[1m min    \u001b[0m\u001b[1m median \u001b[0m\u001b[1m max      \u001b[0m\u001b[1m nmissing \u001b[0m\u001b[1m eltype           \u001b[0m ⋯\n",
       "\u001b[1m     \u001b[0m│\u001b[90m Symbol   \u001b[0m\u001b[90m Union… \u001b[0m\u001b[90m Any    \u001b[0m\u001b[90m Union… \u001b[0m\u001b[90m Any      \u001b[0m\u001b[90m Int64    \u001b[0m\u001b[90m Type             \u001b[0m ⋯\n",
       "─────┼──────────────────────────────────────────────────────────────────────────\n",
       "   1 │ colour   \u001b[90m        \u001b[0m blue   \u001b[90m        \u001b[0m white            0  String            ⋯\n",
       "   2 │ shape    \u001b[90m        \u001b[0m circle \u001b[90m        \u001b[0m triangle         0  String\n",
       "   3 │ border   \u001b[90m        \u001b[0m dotted \u001b[90m        \u001b[0m line             0  String\n",
       "   4 │ area      2.925   1.1     2.7     5.2              1  Union{Missing, Fl\n",
       "\u001b[36m                                                                1 column omitted\u001b[0m"
      ]
     },
     "execution_count": 61,
     "metadata": {},
     "output_type": "execute_result"
    }
   ],
   "source": [
    "describe(df)\n"
   ]
  },
  {
   "cell_type": "code",
   "execution_count": 62,
   "metadata": {},
   "outputs": [
    {
     "name": "stdout",
     "output_type": "stream",
     "text": [
      "\u001b[1mDataFrameRow\u001b[0m\n",
      "\u001b[1m Row \u001b[0m│\u001b[1m colour \u001b[0m\u001b[1m shape  \u001b[0m\u001b[1m border \u001b[0m\u001b[1m area     \u001b[0m\n",
      "\u001b[1m     \u001b[0m│\u001b[90m String \u001b[0m\u001b[90m String \u001b[0m\u001b[90m String \u001b[0m\u001b[90m Float64? \u001b[0m\n",
      "─────┼──────────────────────────────────\n",
      "   1 │ green   circle  dotted       1.1\u001b[1mDataFrameRow\u001b[0m\n",
      "\u001b[1m Row \u001b[0m│\u001b[1m colour \u001b[0m\u001b[1m shape    \u001b[0m\u001b[1m border \u001b[0m\u001b[1m area     \u001b[0m\n",
      "\u001b[1m     \u001b[0m│\u001b[90m String \u001b[0m\u001b[90m String   \u001b[0m\u001b[90m String \u001b[0m\u001b[90m Float64? \u001b[0m\n",
      "─────┼────────────────────────────────────\n",
      "   2 │ blue    triangle  line         2.3\u001b[1mDataFrameRow\u001b[0m\n",
      "\u001b[1m Row \u001b[0m│\u001b[1m colour \u001b[0m\u001b[1m shape  \u001b[0m\u001b[1m border \u001b[0m\u001b[1m area     \u001b[0m\n",
      "\u001b[1m     \u001b[0m│\u001b[90m String \u001b[0m\u001b[90m String \u001b[0m\u001b[90m String \u001b[0m\u001b[90m Float64? \u001b[0m\n",
      "─────┼──────────────────────────────────\n",
      "   3 │ white   square  line         3.1\u001b[1mDataFrameRow\u001b[0m\n",
      "\u001b[1m Row \u001b[0m│\u001b[1m colour \u001b[0m\u001b[1m shape  \u001b[0m\u001b[1m border \u001b[0m\u001b[1m area     \u001b[0m\n",
      "\u001b[1m     \u001b[0m│\u001b[90m String \u001b[0m\u001b[90m String \u001b[0m\u001b[90m String \u001b[0m\u001b[90m Float64? \u001b[0m\n",
      "─────┼──────────────────────────────────\n",
      "   4 │ green   square  line   \u001b[90m  missing \u001b[0m\u001b[1mDataFrameRow\u001b[0m\n",
      "\u001b[1m Row \u001b[0m│\u001b[1m colour \u001b[0m\u001b[1m shape  \u001b[0m\u001b[1m border \u001b[0m\u001b[1m area     \u001b[0m\n",
      "\u001b[1m     \u001b[0m│\u001b[90m String \u001b[0m\u001b[90m String \u001b[0m\u001b[90m String \u001b[0m\u001b[90m Float64? \u001b[0m\n",
      "─────┼──────────────────────────────────\n",
      "   5 │ green   circle  dotted       5.2"
     ]
    }
   ],
   "source": [
    "\n",
    "for c in eachrow(df)    # eachcol(df) for columns\n",
    "    print(c)\n",
    "end"
   ]
  },
  {
   "cell_type": "code",
   "execution_count": 64,
   "metadata": {},
   "outputs": [
    {
     "data": {
      "text/plain": [
       "5-element Vector{String}:\n",
       " \"pink\"\n",
       " \"blue\"\n",
       " \"white\"\n",
       " \"green\"\n",
       " \"green\""
      ]
     },
     "execution_count": 64,
     "metadata": {},
     "output_type": "execute_result"
    }
   ],
   "source": [
    "#Referencing is obtained using the exclamation mark ! for the row position \n",
    "#(to emphasize that referenced data could be changed in the new object) \n",
    "myRef1 = df[!, :colour]  # we need to do this rather than df[:, :colour]\n",
    "myRef1[1] = \"pink\"   # changes the original dataframe as well\n",
    "myRef1"
   ]
  },
  {
   "cell_type": "code",
   "execution_count": null,
   "metadata": {},
   "outputs": [],
   "source": [
    "df[1, :colour] = \"pink\"  # changes the original dataframe as well\n",
    "df\n",
    "\n"
   ]
  },
  {
   "cell_type": "code",
   "execution_count": 65,
   "metadata": {},
   "outputs": [
    {
     "data": {
      "text/html": [
       "<div class=\"data-frame\"><p>5 rows × 4 columns</p><table class=\"data-frame\"><thead><tr><th></th><th>Area</th><th>Border</th><th>Color</th><th>Shape</th></tr><tr><th></th><th title=\"Union{Missing, Float64}\">Float64?</th><th title=\"String\">String</th><th title=\"String\">String</th><th title=\"String\">String</th></tr></thead><tbody><tr><th>1</th><td>1.1</td><td>dotted</td><td>green</td><td>circle</td></tr><tr><th>2</th><td>2.3</td><td>line</td><td>blue</td><td>triangle</td></tr><tr><th>3</th><td>3.1</td><td>line</td><td>white</td><td>square</td></tr><tr><th>4</th><td><em>missing</em></td><td>line</td><td>green</td><td>square</td></tr><tr><th>5</th><td>5.2</td><td>dotted</td><td>green</td><td>circle</td></tr></tbody></table></div>"
      ],
      "text/latex": [
       "\\begin{tabular}{r|cccc}\n",
       "\t& Area & Border & Color & Shape\\\\\n",
       "\t\\hline\n",
       "\t& Float64? & String & String & String\\\\\n",
       "\t\\hline\n",
       "\t1 & 1.1 & dotted & green & circle \\\\\n",
       "\t2 & 2.3 & line & blue & triangle \\\\\n",
       "\t3 & 3.1 & line & white & square \\\\\n",
       "\t4 & \\emph{missing} & line & green & square \\\\\n",
       "\t5 & 5.2 & dotted & green & circle \\\\\n",
       "\\end{tabular}\n"
      ],
      "text/plain": [
       "\u001b[1m5×4 DataFrame\u001b[0m\n",
       "\u001b[1m Row \u001b[0m│\u001b[1m Area      \u001b[0m\u001b[1m Border \u001b[0m\u001b[1m Color  \u001b[0m\u001b[1m Shape    \u001b[0m\n",
       "\u001b[1m     \u001b[0m│\u001b[90m Float64?  \u001b[0m\u001b[90m String \u001b[0m\u001b[90m String \u001b[0m\u001b[90m String   \u001b[0m\n",
       "─────┼─────────────────────────────────────\n",
       "   1 │       1.1  dotted  green   circle\n",
       "   2 │       2.3  line    blue    triangle\n",
       "   3 │       3.1  line    white   square\n",
       "   4 │\u001b[90m missing   \u001b[0m line    green   square\n",
       "   5 │       5.2  dotted  green   circle"
      ]
     },
     "execution_count": 65,
     "metadata": {},
     "output_type": "execute_result"
    }
   ],
   "source": [
    "dict = Dict(:Color=>[\"green\",\"blue\",\"white\",\"green\",\"green\"],:Shape=>[\"circle\", \"triangle\", \"square\",\"square\",\"circle\"],:Border=>[\"dotted\", \"line\", \"line\", \"line\", \"dotted\"],:Area=>[1.1, 2.3, 3.1, missing, 5.2])\n",
    "df = DataFrame(dict)\n",
    "#select(df, Not(:Area))   # drop column :Area"
   ]
  },
  {
   "cell_type": "code",
   "execution_count": 66,
   "metadata": {},
   "outputs": [
    {
     "data": {
      "text/plain": [
       "Tuple{Pair{Symbol, Vector{Int64}}, Pair{Symbol, Vector{Int64}}}"
      ]
     },
     "execution_count": 66,
     "metadata": {},
     "output_type": "execute_result"
    }
   ],
   "source": [
    "tuples = (:H => [5, 10], :J => [10, 15])\n",
    "typeof(tuples)"
   ]
  },
  {
   "cell_type": "code",
   "execution_count": 68,
   "metadata": {},
   "outputs": [
    {
     "data": {
      "text/html": [
       "<div class=\"data-frame\"><p>2 rows × 2 columns</p><table class=\"data-frame\"><thead><tr><th></th><th>H</th><th>J</th></tr><tr><th></th><th title=\"Int64\">Int64</th><th title=\"Int64\">Int64</th></tr></thead><tbody><tr><th>1</th><td>5</td><td>10</td></tr><tr><th>2</th><td>10</td><td>15</td></tr></tbody></table></div>"
      ],
      "text/latex": [
       "\\begin{tabular}{r|cc}\n",
       "\t& H & J\\\\\n",
       "\t\\hline\n",
       "\t& Int64 & Int64\\\\\n",
       "\t\\hline\n",
       "\t1 & 5 & 10 \\\\\n",
       "\t2 & 10 & 15 \\\\\n",
       "\\end{tabular}\n"
      ],
      "text/plain": [
       "\u001b[1m2×2 DataFrame\u001b[0m\n",
       "\u001b[1m Row \u001b[0m│\u001b[1m H     \u001b[0m\u001b[1m J     \u001b[0m\n",
       "\u001b[1m     \u001b[0m│\u001b[90m Int64 \u001b[0m\u001b[90m Int64 \u001b[0m\n",
       "─────┼──────────────\n",
       "   1 │     5     10\n",
       "   2 │    10     15"
      ]
     },
     "execution_count": 68,
     "metadata": {},
     "output_type": "execute_result"
    }
   ],
   "source": [
    "df = DataFrame(tuples...) # note the column names are not controlled by the user"
   ]
  },
  {
   "cell_type": "code",
   "execution_count": 71,
   "metadata": {},
   "outputs": [
    {
     "data": {
      "text/html": [
       "<div class=\"data-frame\"><p>3 rows × 2 columns</p><table class=\"data-frame\"><thead><tr><th></th><th>Book</th><th>Author</th></tr><tr><th></th><th title=\"String31\">String31</th><th title=\"String\">String</th></tr></thead><tbody><tr><th>1</th><td>The Hobbit</td><td>J.R.R. Tolkien</td></tr><tr><th>2</th><td>The Lord of the Rings</td><td>J.R.R. Tolkien</td></tr><tr><th>3</th><td>The Silmarillion</td><td>J.R.R. Tolkien and Christopher Tolkien</td></tr></tbody></table></div>"
      ],
      "text/latex": [
       "\\begin{tabular}{r|cc}\n",
       "\t& Book & Author\\\\\n",
       "\t\\hline\n",
       "\t& String31 & String\\\\\n",
       "\t\\hline\n",
       "\t1 & The Hobbit & J.R.R. Tolkien \\\\\n",
       "\t2 & The Lord of the Rings & J.R.R. Tolkien \\\\\n",
       "\t3 & The Silmarillion & J.R.R. Tolkien and Christopher Tolkien \\\\\n",
       "\\end{tabular}\n"
      ],
      "text/plain": [
       "\u001b[1m3×2 DataFrame\u001b[0m\n",
       "\u001b[1m Row \u001b[0m│\u001b[1m Book                  \u001b[0m\u001b[1m Author                            \u001b[0m\n",
       "\u001b[1m     \u001b[0m│\u001b[90m String31              \u001b[0m\u001b[90m String                            \u001b[0m\n",
       "─────┼──────────────────────────────────────────────────────────\n",
       "   1 │ The Hobbit             J.R.R. Tolkien\n",
       "   2 │ The Lord of the Rings  J.R.R. Tolkien\n",
       "   3 │ The Silmarillion       J.R.R. Tolkien and Christopher T…"
      ]
     },
     "execution_count": 71,
     "metadata": {},
     "output_type": "execute_result"
    }
   ],
   "source": [
    "# Exercise: We have a list of 3 books and their authors. Some of the books have more than one author\n",
    "# list of books \"The Hobbit\", \"The Lord of the Rings\", \"The Silmarillion\"\n",
    "# list of authors \"J.R.R. Tolkien\", \"J.R.R. Tolkien\",     \"J.R.R. Tolkien\" and \"Christopher Tolkien\"\n",
    "# construct a dataframe with two columns: Book and Author\n",
    "\n",
    "# Write this out to a CSV file -  what do we expect to see?\n",
    "# Now read the CSV file back in and see what happens to the types of the columns\n",
    "books = DataFrame(Book=[\"The Hobbit\", \"The Lord of the Rings\", \"The Silmarillion\"], Author=[\"J.R.R. Tolkien\", \"J.R.R. Tolkien\", \"J.R.R. Tolkien and Christopher Tolkien\"])\n",
    "CSV.write(\"books.csv\", books)\n",
    "df2 = CSV.read(\"books.csv\", DataFrame)\n",
    "\n",
    "df2"
   ]
  },
  {
   "cell_type": "code",
   "execution_count": null,
   "metadata": {},
   "outputs": [],
   "source": [
    "names(df)"
   ]
  },
  {
   "cell_type": "code",
   "execution_count": null,
   "metadata": {},
   "outputs": [],
   "source": [
    "df = DataFrame(:X => [5,10,15,20], :Y => [5,10,15,20])"
   ]
  },
  {
   "cell_type": "code",
   "execution_count": null,
   "metadata": {},
   "outputs": [],
   "source": [
    "push!(df, [10, 15])"
   ]
  },
  {
   "cell_type": "code",
   "execution_count": null,
   "metadata": {},
   "outputs": [],
   "source": [
    "df.Z = df.X .* df.Y    # add a new column using element wise multiplication\n",
    "df"
   ]
  },
  {
   "cell_type": "code",
   "execution_count": null,
   "metadata": {},
   "outputs": [],
   "source": [
    "# Key:  note the use of the !\n",
    "df.W = df[!, :X]\n",
    "df.V = ['a', 'b', 'c', 'd', 'e']\n",
    "df"
   ]
  },
  {
   "cell_type": "code",
   "execution_count": null,
   "metadata": {},
   "outputs": [],
   "source": [
    "df = DataFrame(:X => [5,10,15,20], :Y => [5,10,15,20])\n",
    "df.Z = df.X .* df.Y    # add a new column using element wise multiplication\n",
    "push!(df, [10, 15, 99])\n"
   ]
  },
  {
   "cell_type": "code",
   "execution_count": null,
   "metadata": {},
   "outputs": [],
   "source": [
    "names(df)\n",
    "# test columns for type and select only Number columns\n",
    "\n",
    "function getNumericColumns(df)\n",
    "    numericColumns = []\n",
    "    for i in 1:size(df)[2]\n",
    "        if eltype(df[:, i]) <: Number\n",
    "            push!(numericColumns, names(df)[i])\n",
    "        end\n",
    "    end\n",
    "    return numericColumns\n",
    "end\n",
    "getNumericColumns(df)\n",
    "#select(df,[Symbol('X'), Symbol('Y'), Symbol('Z'), Symbol('W')])\n",
    "#select(df, getNumericColumns(df))"
   ]
  },
  {
   "cell_type": "code",
   "execution_count": null,
   "metadata": {},
   "outputs": [],
   "source": [
    "#rename!(df, :X => :XMAS)\n"
   ]
  },
  {
   "cell_type": "code",
   "execution_count": null,
   "metadata": {},
   "outputs": [],
   "source": [
    "df[!, :U] = [1, 2, 3, 4, 5]"
   ]
  },
  {
   "cell_type": "code",
   "execution_count": null,
   "metadata": {},
   "outputs": [],
   "source": [
    "show(df)"
   ]
  },
  {
   "cell_type": "code",
   "execution_count": null,
   "metadata": {},
   "outputs": [],
   "source": [
    "first(df, 2)"
   ]
  },
  {
   "cell_type": "code",
   "execution_count": null,
   "metadata": {},
   "outputs": [],
   "source": [
    "last(df, 3)"
   ]
  },
  {
   "cell_type": "code",
   "execution_count": null,
   "metadata": {},
   "outputs": [],
   "source": [
    "df[2:4, :]"
   ]
  },
  {
   "cell_type": "code",
   "execution_count": null,
   "metadata": {},
   "outputs": [],
   "source": [
    "df[Not(2:4), :]"
   ]
  },
  {
   "cell_type": "code",
   "execution_count": null,
   "metadata": {},
   "outputs": [],
   "source": [
    "show(df)"
   ]
  },
  {
   "cell_type": "code",
   "execution_count": null,
   "metadata": {},
   "outputs": [],
   "source": [
    "df[2, 2]"
   ]
  },
  {
   "cell_type": "code",
   "execution_count": null,
   "metadata": {},
   "outputs": [],
   "source": [
    "df2 = DataFrame(:A => [5, 10, 15, 20, 25], :Y => [5, 10, 15, 20, 15])"
   ]
  },
  {
   "cell_type": "code",
   "execution_count": null,
   "metadata": {},
   "outputs": [],
   "source": [
    "innerjoin(df, df2, on = :Y)"
   ]
  },
  {
   "cell_type": "code",
   "execution_count": null,
   "metadata": {},
   "outputs": [],
   "source": [
    "df"
   ]
  },
  {
   "cell_type": "code",
   "execution_count": null,
   "metadata": {},
   "outputs": [],
   "source": [
    "sort!(df)"
   ]
  },
  {
   "cell_type": "code",
   "execution_count": null,
   "metadata": {},
   "outputs": [],
   "source": [
    "DataFrame([Float64, Float64, Int64, Int64], [Symbol(\"x$i\") for i in 1:4], 3)"
   ]
  },
  {
   "cell_type": "code",
   "execution_count": 46,
   "metadata": {},
   "outputs": [
    {
     "data": {
      "text/html": [
       "<div class=\"data-frame\"><p>3 rows × 2 columns</p><table class=\"data-frame\"><thead><tr><th></th><th>A</th><th>B</th></tr><tr><th></th><th title=\"Union{Missing, Int64}\">Int64?</th><th title=\"Int64\">Int64</th></tr></thead><tbody><tr><th>1</th><td>5</td><td>5</td></tr><tr><th>2</th><td><em>missing</em></td><td>10</td></tr><tr><th>3</th><td>6</td><td>2</td></tr></tbody></table></div>"
      ],
      "text/latex": [
       "\\begin{tabular}{r|cc}\n",
       "\t& A & B\\\\\n",
       "\t\\hline\n",
       "\t& Int64? & Int64\\\\\n",
       "\t\\hline\n",
       "\t1 & 5 & 5 \\\\\n",
       "\t2 & \\emph{missing} & 10 \\\\\n",
       "\t3 & 6 & 2 \\\\\n",
       "\\end{tabular}\n"
      ],
      "text/plain": [
       "\u001b[1m3×2 DataFrame\u001b[0m\n",
       "\u001b[1m Row \u001b[0m│\u001b[1m A       \u001b[0m\u001b[1m B     \u001b[0m\n",
       "\u001b[1m     \u001b[0m│\u001b[90m Int64?  \u001b[0m\u001b[90m Int64 \u001b[0m\n",
       "─────┼────────────────\n",
       "   1 │       5      5\n",
       "   2 │\u001b[90m missing \u001b[0m    10\n",
       "   3 │       6      2"
      ]
     },
     "execution_count": 46,
     "metadata": {},
     "output_type": "execute_result"
    }
   ],
   "source": [
    "df = DataFrame(:A => [5, missing, 6], :B => [5, 10, 2])"
   ]
  },
  {
   "cell_type": "code",
   "execution_count": 47,
   "metadata": {},
   "outputs": [
    {
     "data": {
      "text/html": [
       "<div class=\"data-frame\"><p>2 rows × 2 columns</p><table class=\"data-frame\"><thead><tr><th></th><th>A</th><th>B</th></tr><tr><th></th><th title=\"Int64\">Int64</th><th title=\"Int64\">Int64</th></tr></thead><tbody><tr><th>1</th><td>5</td><td>5</td></tr><tr><th>2</th><td>6</td><td>2</td></tr></tbody></table></div>"
      ],
      "text/latex": [
       "\\begin{tabular}{r|cc}\n",
       "\t& A & B\\\\\n",
       "\t\\hline\n",
       "\t& Int64 & Int64\\\\\n",
       "\t\\hline\n",
       "\t1 & 5 & 5 \\\\\n",
       "\t2 & 6 & 2 \\\\\n",
       "\\end{tabular}\n"
      ],
      "text/plain": [
       "\u001b[1m2×2 DataFrame\u001b[0m\n",
       "\u001b[1m Row \u001b[0m│\u001b[1m A     \u001b[0m\u001b[1m B     \u001b[0m\n",
       "\u001b[1m     \u001b[0m│\u001b[90m Int64 \u001b[0m\u001b[90m Int64 \u001b[0m\n",
       "─────┼──────────────\n",
       "   1 │     5      5\n",
       "   2 │     6      2"
      ]
     },
     "execution_count": 47,
     "metadata": {},
     "output_type": "execute_result"
    }
   ],
   "source": [
    "# drop rows where any column is missing\n",
    "dropmissing(df)   "
   ]
  },
  {
   "cell_type": "code",
   "execution_count": null,
   "metadata": {},
   "outputs": [],
   "source": [
    "df"
   ]
  },
  {
   "cell_type": "code",
   "execution_count": null,
   "metadata": {},
   "outputs": [],
   "source": [
    "dropmissing(df, :A)"
   ]
  },
  {
   "cell_type": "markdown",
   "metadata": {},
   "source": []
  },
  {
   "cell_type": "code",
   "execution_count": 42,
   "metadata": {},
   "outputs": [
    {
     "data": {
      "text/html": [
       "<div class=\"data-frame\"><p>6 rows × 2 columns</p><table class=\"data-frame\"><thead><tr><th></th><th>x</th><th>y</th></tr><tr><th></th><th title=\"Union{Missing, Nothing, Float64}\">Union…?</th><th title=\"Char\">Char</th></tr></thead><tbody><tr><th>1</th><td>1.0</td><td>a</td></tr><tr><th>2</th><td><em>missing</em></td><td>b</td></tr><tr><th>3</th><td>3.0</td><td>c</td></tr><tr><th>4</th><td></td><td>d</td></tr><tr><th>5</th><td>5.0</td><td>e</td></tr><tr><th>6</th><td>NaN</td><td>f</td></tr></tbody></table></div>"
      ],
      "text/latex": [
       "\\begin{tabular}{r|cc}\n",
       "\t& x & y\\\\\n",
       "\t\\hline\n",
       "\t& Union…? & Char\\\\\n",
       "\t\\hline\n",
       "\t1 & 1.0 & a \\\\\n",
       "\t2 & \\emph{missing} & b \\\\\n",
       "\t3 & 3.0 & c \\\\\n",
       "\t4 &  & d \\\\\n",
       "\t5 & 5.0 & e \\\\\n",
       "\t6 & NaN & f \\\\\n",
       "\\end{tabular}\n"
      ],
      "text/plain": [
       "\u001b[1m6×2 DataFrame\u001b[0m\n",
       "\u001b[1m Row \u001b[0m│\u001b[1m x       \u001b[0m\u001b[1m y    \u001b[0m\n",
       "\u001b[1m     \u001b[0m│\u001b[90m Union…? \u001b[0m\u001b[90m Char \u001b[0m\n",
       "─────┼───────────────\n",
       "   1 │ 1.0      a\n",
       "   2 │\u001b[90m missing \u001b[0m b\n",
       "   3 │ 3.0      c\n",
       "   4 │\u001b[90m         \u001b[0m d\n",
       "   5 │ 5.0      e\n",
       "   6 │ NaN      f"
      ]
     },
     "execution_count": 42,
     "metadata": {},
     "output_type": "execute_result"
    }
   ],
   "source": [
    "df3  = DataFrame(x=[1,missing,3,nothing,5,NaN], y='a':'f')\n"
   ]
  },
  {
   "cell_type": "code",
   "execution_count": 43,
   "metadata": {},
   "outputs": [
    {
     "data": {
      "text/html": [
       "<div class=\"data-frame\"><p>3 rows × 2 columns</p><table class=\"data-frame\"><thead><tr><th></th><th>x</th><th>y</th></tr><tr><th></th><th title=\"Union{Missing, Nothing, Float64}\">Union…?</th><th title=\"Char\">Char</th></tr></thead><tbody><tr><th>1</th><td>1.0</td><td>a</td></tr><tr><th>2</th><td>3.0</td><td>c</td></tr><tr><th>3</th><td>5.0</td><td>e</td></tr></tbody></table></div>"
      ],
      "text/latex": [
       "\\begin{tabular}{r|cc}\n",
       "\t& x & y\\\\\n",
       "\t\\hline\n",
       "\t& Union…? & Char\\\\\n",
       "\t\\hline\n",
       "\t1 & 1.0 & a \\\\\n",
       "\t2 & 3.0 & c \\\\\n",
       "\t3 & 5.0 & e \\\\\n",
       "\\end{tabular}\n"
      ],
      "text/plain": [
       "\u001b[1m3×2 DataFrame\u001b[0m\n",
       "\u001b[1m Row \u001b[0m│\u001b[1m x       \u001b[0m\u001b[1m y    \u001b[0m\n",
       "\u001b[1m     \u001b[0m│\u001b[90m Union…? \u001b[0m\u001b[90m Char \u001b[0m\n",
       "─────┼───────────────\n",
       "   1 │ 1.0      a\n",
       "   2 │ 3.0      c\n",
       "   3 │ 5.0      e"
      ]
     },
     "execution_count": 43,
     "metadata": {},
     "output_type": "execute_result"
    }
   ],
   "source": [
    "filter( [1] => x -> !any(f -> f(x), (ismissing, isnothing, isnan)), df3)"
   ]
  },
  {
   "cell_type": "code",
   "execution_count": 44,
   "metadata": {},
   "outputs": [
    {
     "data": {
      "text/html": [
       "<div class=\"data-frame\"><p>3 rows × 2 columns</p><table class=\"data-frame\"><thead><tr><th></th><th>x</th><th>y</th></tr><tr><th></th><th title=\"Union{Missing, Nothing, Float64}\">Union…?</th><th title=\"Char\">Char</th></tr></thead><tbody><tr><th>1</th><td>1.0</td><td>a</td></tr><tr><th>2</th><td>3.0</td><td>c</td></tr><tr><th>3</th><td>5.0</td><td>e</td></tr></tbody></table></div>"
      ],
      "text/latex": [
       "\\begin{tabular}{r|cc}\n",
       "\t& x & y\\\\\n",
       "\t\\hline\n",
       "\t& Union…? & Char\\\\\n",
       "\t\\hline\n",
       "\t1 & 1.0 & a \\\\\n",
       "\t2 & 3.0 & c \\\\\n",
       "\t3 & 5.0 & e \\\\\n",
       "\\end{tabular}\n"
      ],
      "text/plain": [
       "\u001b[1m3×2 DataFrame\u001b[0m\n",
       "\u001b[1m Row \u001b[0m│\u001b[1m x       \u001b[0m\u001b[1m y    \u001b[0m\n",
       "\u001b[1m     \u001b[0m│\u001b[90m Union…? \u001b[0m\u001b[90m Char \u001b[0m\n",
       "─────┼───────────────\n",
       "   1 │ 1.0      a\n",
       "   2 │ 3.0      c\n",
       "   3 │ 5.0      e"
      ]
     },
     "execution_count": 44,
     "metadata": {},
     "output_type": "execute_result"
    }
   ],
   "source": [
    "filter(:x => x -> !any(f -> f(x), (ismissing, isnothing, isnan)), df3)"
   ]
  },
  {
   "cell_type": "code",
   "execution_count": 45,
   "metadata": {},
   "outputs": [
    {
     "data": {
      "text/html": [
       "<div class=\"data-frame\"><p>3 rows × 1 columns</p><table class=\"data-frame\"><thead><tr><th></th><th>x</th></tr><tr><th></th><th title=\"Union{Missing, Float64}\">Float64?</th></tr></thead><tbody><tr><th>1</th><td>3432.34</td></tr><tr><th>2</th><td>432.2</td></tr><tr><th>3</th><td>43.0</td></tr></tbody></table></div>"
      ],
      "text/latex": [
       "\\begin{tabular}{r|c}\n",
       "\t& x\\\\\n",
       "\t\\hline\n",
       "\t& Float64?\\\\\n",
       "\t\\hline\n",
       "\t1 & 3432.34 \\\\\n",
       "\t2 & 432.2 \\\\\n",
       "\t3 & 43.0 \\\\\n",
       "\\end{tabular}\n"
      ],
      "text/plain": [
       "\u001b[1m3×1 DataFrame\u001b[0m\n",
       "\u001b[1m Row \u001b[0m│\u001b[1m x        \u001b[0m\n",
       "\u001b[1m     \u001b[0m│\u001b[90m Float64? \u001b[0m\n",
       "─────┼──────────\n",
       "   1 │  3432.34\n",
       "   2 │   432.2\n",
       "   3 │    43.0"
      ]
     },
     "execution_count": 45,
     "metadata": {},
     "output_type": "execute_result"
    }
   ],
   "source": [
    "\n",
    "df = DataFrame(x=[missing,NaN,3432.34,432.2,NaN, 43.])\n",
    "# select numerical type columns from a DataFrame df\n",
    "filter(:x => x -> !any(f -> f(x), (ismissing, isnothing, isnan)), df)"
   ]
  },
  {
   "cell_type": "code",
   "execution_count": 40,
   "metadata": {},
   "outputs": [
    {
     "data": {
      "text/html": [
       "<div class=\"data-frame\"><p>6 rows × 3 columns</p><table class=\"data-frame\"><thead><tr><th></th><th>A</th><th>B</th><th>C</th></tr><tr><th></th><th title=\"Int64\">Int64</th><th title=\"Int64\">Int64</th><th title=\"String\">String</th></tr></thead><tbody><tr><th>1</th><td>1</td><td>1</td><td>a</td></tr><tr><th>2</th><td>3</td><td>3</td><td>b</td></tr><tr><th>3</th><td>4</td><td>4</td><td>c</td></tr><tr><th>4</th><td>5</td><td>5</td><td>d</td></tr><tr><th>5</th><td>6</td><td>6</td><td>e</td></tr><tr><th>6</th><td>9</td><td>3</td><td>f</td></tr></tbody></table></div>"
      ],
      "text/latex": [
       "\\begin{tabular}{r|ccc}\n",
       "\t& A & B & C\\\\\n",
       "\t\\hline\n",
       "\t& Int64 & Int64 & String\\\\\n",
       "\t\\hline\n",
       "\t1 & 1 & 1 & a \\\\\n",
       "\t2 & 3 & 3 & b \\\\\n",
       "\t3 & 4 & 4 & c \\\\\n",
       "\t4 & 5 & 5 & d \\\\\n",
       "\t5 & 6 & 6 & e \\\\\n",
       "\t6 & 9 & 3 & f \\\\\n",
       "\\end{tabular}\n"
      ],
      "text/plain": [
       "\u001b[1m6×3 DataFrame\u001b[0m\n",
       "\u001b[1m Row \u001b[0m│\u001b[1m A     \u001b[0m\u001b[1m B     \u001b[0m\u001b[1m C      \u001b[0m\n",
       "\u001b[1m     \u001b[0m│\u001b[90m Int64 \u001b[0m\u001b[90m Int64 \u001b[0m\u001b[90m String \u001b[0m\n",
       "─────┼──────────────────────\n",
       "   1 │     1      1  a\n",
       "   2 │     3      3  b\n",
       "   3 │     4      4  c\n",
       "   4 │     5      5  d\n",
       "   5 │     6      6  e\n",
       "   6 │     9      3  f"
      ]
     },
     "execution_count": 40,
     "metadata": {},
     "output_type": "execute_result"
    }
   ],
   "source": [
    "df = DataFrame(A=[1,3,4,5,6,9], B=[1,3,4,5,6,3], C=[\"a\",\"b\",\"c\",\"d\",\"e\",\"f\"])"
   ]
  },
  {
   "cell_type": "code",
   "execution_count": null,
   "metadata": {},
   "outputs": [],
   "source": [
    "using Missings\n",
    "# drop columns with not number values - using subtype operator <: \n",
    "df = df[:, map(col -> eltype(col) <: Number, eachcol(df))]\n",
    "# note use of subtype operator <:\n",
    "# eachrow(df) and eachcol(df) are useful functions\n",
    "\n",
    "\n",
    "\n"
   ]
  },
  {
   "cell_type": "code",
   "execution_count": null,
   "metadata": {},
   "outputs": [],
   "source": [
    "\n",
    "using DataFrames; df = CSV.read(\"house100Data.csv\", DataFrame)\n",
    "describe(df)"
   ]
  },
  {
   "cell_type": "code",
   "execution_count": null,
   "metadata": {},
   "outputs": [],
   "source": [
    "# Fix column names by replaceing ' ', '-', '/' with '_'\n",
    "# Test this by editing  a few house100Data.csv column names \n",
    "colnames = Symbol[]\n",
    "for i in string.(names(df))\n",
    "    push!(colnames,Symbol(replace(replace(replace(strip(i),\" \" => \"_\"),\"-\" => \"_\"), \"/\" => \"_\")))\n",
    "end\n",
    "\n",
    "rename!(df, colnames);\n",
    "names(df)"
   ]
  },
  {
   "cell_type": "code",
   "execution_count": null,
   "metadata": {},
   "outputs": [],
   "source": [
    "Pkg.add(\"JSON\")\n",
    "using JSON\n",
    "using HTTP\n",
    "\n",
    "url = \"https://pollysnips.s3.amazonaws.com/contacts.json\"\n",
    "res = HTTP.get(url)\n",
    "str = String(res.body)\n",
    "jobj = JSON.Parser.parse(str)\n"
   ]
  },
  {
   "cell_type": "code",
   "execution_count": null,
   "metadata": {},
   "outputs": [],
   "source": [
    "df = DataFrame(A = 1:4, B = [\"M\", \"F\", \"F\", \"M\"])\n",
    "df2 = DataFrame(A = 6, B = [\"F\"])\n",
    "df3 = vcat(df, df2)\n"
   ]
  },
  {
   "cell_type": "code",
   "execution_count": 37,
   "metadata": {},
   "outputs": [
    {
     "data": {
      "text/plain": [
       "\"[\\\"J.R.R. Tolkien\\\", \\\"Christopher Tolkien\\\"]\""
      ]
     },
     "execution_count": 37,
     "metadata": {},
     "output_type": "execute_result"
    }
   ],
   "source": [
    "# we have a list of 3 books and their authors. Some of the books have more than one author\n",
    "# list of books \"The Hobbit\", \"The Lord of the Rings\", \"The Silmarillion\"\n",
    "# list of authors \"J.R.R. Tolkien\", \"J.R.R. Tolkien\",     \"J.R.R. Tolkien\" and \"Christopher Tolkien\"\n",
    "# construct a dataframe with two columns: Book and Author\n",
    "a = [\"The Hobbit\", \"The Lord of the Rings\", \"The Silmarillion\"]\n",
    "b = [[\"J.R.R. Tolkien\"], [\"J.R.R. Tolkien\"], [\"J.R.R. Tolkien\", \"Christopher Tolkien\"]]\n",
    "df = DataFrame(Book = a, Author = b)\n",
    "CSV.write(\"books.csv\", df)\n",
    "dfbooks = CSV.read(\"books.csv\", DataFrame)\n",
    "dfbooks[3, :Author]"
   ]
  }
 ],
 "metadata": {
  "@webio": {
   "lastCommId": null,
   "lastKernelId": null
  },
  "kernelspec": {
   "display_name": "Julia 1.7.1",
   "language": "julia",
   "name": "julia-1.7"
  },
  "language_info": {
   "file_extension": ".jl",
   "mimetype": "application/julia",
   "name": "julia",
   "version": "1.7.1"
  }
 },
 "nbformat": 4,
 "nbformat_minor": 2
}
